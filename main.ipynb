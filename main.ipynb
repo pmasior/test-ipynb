{
  "nbformat": 4,
  "nbformat_minor": 0,
  "metadata": {
    "colab": {
      "provenance": [],
      "authorship_tag": "ABX9TyORULd+n7M1iAXlZcV+40i9",
      "include_colab_link": true
    },
    "kernelspec": {
      "name": "python3",
      "display_name": "Python 3"
    },
    "language_info": {
      "name": "python"
    }
  },
  "cells": [
    {
      "cell_type": "markdown",
      "metadata": {
        "id": "view-in-github",
        "colab_type": "text"
      },
      "source": [
        "<a href=\"https://colab.research.google.com/github/pmasior/test-ipynb/blob/develop/main.ipynb\" target=\"_parent\"><img src=\"https://colab.research.google.com/assets/colab-badge.svg\" alt=\"Open In Colab\"/></a>"
      ]
    },
    {
      "cell_type": "code",
      "execution_count": null,
      "metadata": {
        "id": "KB00BL1AmUfu"
      },
      "outputs": [],
      "source": [
        "echo 123 \r\n",
        "echo 456"
      ]
    },
{
   "cell_type": "code",
   "execution_count": 1,
   "metadata": {},
   "outputs": [],
   "source": [
    "from scipy.stats import multivariate_normal\n",
    "import numpy as np\n",
    "\n",
    "class BayesianLinearRegression:\n",
    "    \"\"\" Bayesian linear regression\n",
    "    \n",
    "    Args:\n",
    "        prior_mean: Mean values of the prior distribution (m_0)\n",
    "        prior_cov: Covariance matrix of the prior distribution (S_0)\n",
    "        noise_var: Variance of the noise distribution\n",
    "    \"\"\"\n",
    "    \n",
    "    def __init__(self, prior_mean: np.ndarray, prior_cov: np.ndarray, noise_var: float):\n",
    "        self.prior_mean = prior_mean[:, np.newaxis] # column vector of shape (1, d)\n",
    "        self.prior_cov = prior_cov # matrix of shape (d, d)\n",
    "        # We initalize the prior distribution over the parameters using the given mean and covariance matrix\n",
    "        # In the formulas above this corresponds to m_0 (prior_mean) and S_0 (prior_cov)\n",
    "        self.prior = multivariate_normal(prior_mean, prior_cov)\n",
    "        \n",
    "        # We also know the variance of the noise\n",
    "        self.noise_var = noise_var # single float value\n",
    "        self.noise_precision = 1 / noise_var\n",
    "        \n",
    "        # Before performing any inference the parameter posterior equals the parameter prior\n",
    "        self.param_posterior = self.prior\n",
    "        # Accordingly, the posterior mean and covariance equal the prior mean and variance\n",
    "        self.post_mean = self.prior_mean # corresponds to m_N in formulas\n",
    "        self.post_cov = self.prior_cov # corresponds to S_N in formulas\n",
    "        \n",
    "        \n",
    "# Let's make sure that we can initialize our model\n",
    "prior_mean = np.array([0, 0])\n",
    "prior_cov = np.array([[0.5, 0], [0, 0.5]])\n",
    "noise_var = 0.2\n",
    "blr = BayesianLinearRegression(prior_mean, prior_cov, noise_var)"
   ]
  },
  ]
}
